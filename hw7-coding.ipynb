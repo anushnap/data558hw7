{
 "cells": [
  {
   "cell_type": "markdown",
   "id": "completed-luther",
   "metadata": {},
   "source": [
    "# <center> Homework 7: Support Vector Machines </center>\n",
    "<center> Anushna Prakash </center>\n",
    "<center> May 28, 2021 </center>"
   ]
  },
  {
   "cell_type": "markdown",
   "id": "scenic-classification",
   "metadata": {},
   "source": [
    "$$ \\min_{\\alpha \\in \\mathbb{R}^n} F(\\alpha):= \\frac{1}{n} \\sum_{i=1}^{n} \\ell(y_i, (K\\alpha)_i) + \\lambda \\alpha^T K \\alpha$$  \n",
    "$$ \\min_{\\alpha \\in \\mathbb{R}^n} F(\\alpha):= \\frac{1}{n} \\sum_{i=1}^{n} (\\max \\{0, 1 - y_i (K\\alpha)_i\\})^2 + \\lambda \\alpha^T K \\alpha$$  \n",
    "$$ \\nabla F(\\alpha) = -\\frac{2}{n} \\sum_{i=1}^{n} K_i y_i  \\max \\{0, 1-y_i K_i^T \\alpha\\} + 2\\lambda K \\alpha $$  \n",
    "$$\n",
    "    \\nabla F(\\alpha) = \n",
    "    \\begin{cases}\n",
    "        -\\frac{2}{n} \\sum_{i=1}^{n} K_i y_i (1 - y_i K_i^T \\alpha) + 2 \\lambda K \\alpha, & \\text{for } 1-y_i(K\\alpha)_i > 0\\\\\n",
    "        2 \\lambda K \\alpha, & \\text{for } 1-y_i(K\\alpha)_i <= 0\\\\\n",
    "    \\end{cases}\n",
    "$$"
   ]
  },
  {
   "cell_type": "code",
   "execution_count": 30,
   "id": "native-blind",
   "metadata": {},
   "outputs": [],
   "source": [
    "import numpy as np\n",
    "import pandas as pd\n",
    "from sklearn.datasets import load_digits\n",
    "from sklearn.preprocessing import normalize\n",
    "from sklearn.model_selection import train_test_split\n",
    "import matplotlib.pyplot as plt"
   ]
  },
  {
   "cell_type": "code",
   "execution_count": 31,
   "id": "simplified-manner",
   "metadata": {},
   "outputs": [],
   "source": [
    "def kernal(x, y, b, p):\n",
    "    return ((x @ y.T) + b)**p"
   ]
  },
  {
   "cell_type": "code",
   "execution_count": 32,
   "id": "coral-scenario",
   "metadata": {},
   "outputs": [],
   "source": [
    "def computegram(k, x, b, p):\n",
    "#     n = x.shape[0]\n",
    "#     K = np.empty(shape = (n, n))\n",
    "    \n",
    "#     for i, v in enumerate(x):\n",
    "#         for j, w in enumerate(x):\n",
    "#             K[i][j] = k(v, w, b, p)\n",
    "    K = k(x, x, b, p)\n",
    "    return K"
   ]
  },
  {
   "cell_type": "code",
   "execution_count": 33,
   "id": "wound-realtor",
   "metadata": {},
   "outputs": [],
   "source": [
    "def kernaleval(k, x, x_star, b, p):\n",
    "    kernal_evals = np.empty(len(x))\n",
    "    for i, v in enumerate(x):\n",
    "        kernal_evals[i] = k(v, x_star, b, p)\n",
    "    \n",
    "    return kernal_evals"
   ]
  },
  {
   "cell_type": "code",
   "execution_count": 34,
   "id": "regulation-harrison",
   "metadata": {},
   "outputs": [],
   "source": [
    "def svm_f(alpha, gram, X, y, lambda_):\n",
    "    n = X.shape[0]\n",
    "    K_a = np.dot(gram, alpha)\n",
    "#     loss = 0\n",
    "#     for i in range(n):\n",
    "#         cond = 1.0 - y[i] * K_a[i]\n",
    "#         if cond > 0:\n",
    "#             loss += np.square(cond)\n",
    "    loss = 1.0 - np.multiply(y, K_a)\n",
    "    loss_condition = np.where(loss > 0, loss, 0)\n",
    "\n",
    "    return np.mean(np.square(loss_condition)) + lambda_ * (alpha.T @ gram @ alpha)"
   ]
  },
  {
   "cell_type": "code",
   "execution_count": 35,
   "id": "dried-anime",
   "metadata": {},
   "outputs": [],
   "source": [
    "def svm_grad(alpha, gram, X, y, lambda_):\n",
    "    n = len(X)\n",
    "    K_a = np.dot(gram, alpha)\n",
    "    loss = 1.0 - np.multiply(y, np.dot(gram, alpha))\n",
    "    reg = 2.0 * lambda_ * K_a\n",
    "    loss_grad = np.zeros(reg.shape)\n",
    "    \n",
    "    for i in range(n):\n",
    "        if loss[i] > 0:\n",
    "            K_y = gram[i] * y[i]\n",
    "            loss_grad += -2 * K_y * loss[i]\n",
    "        \n",
    "    return (1/n) * loss_grad + reg"
   ]
  },
  {
   "cell_type": "code",
   "execution_count": 36,
   "id": "actual-advertising",
   "metadata": {},
   "outputs": [],
   "source": [
    "def backtracking(eta_init, decay_rate, prop_constant, alpha, *args):\n",
    "    eta = eta_init\n",
    "    \n",
    "    def decrease_condition(eta):\n",
    "        grad = svm_grad(alpha, *args)\n",
    "        left = svm_f(alpha - eta * grad, *args) - svm_f(alpha, *args)\n",
    "        right = -eta * prop_constant * np.linalg.norm(grad)**2\n",
    "        return left <= right\n",
    "    \n",
    "    while not decrease_condition(eta):\n",
    "        eta *= decay_rate\n",
    "    \n",
    "    return eta"
   ]
  },
  {
   "cell_type": "code",
   "execution_count": 37,
   "id": "endless-wales",
   "metadata": {},
   "outputs": [],
   "source": [
    "def mysvm(eta_init, tol, alpha_init, *args):\n",
    "    theta = alpha_init.copy()\n",
    "    alpha = alpha_init.copy()\n",
    "    iters = [alpha]\n",
    "    grad = svm_grad(alpha, *args)\n",
    "    decay_rate = 0.3\n",
    "    prop_constant = 0.3\n",
    "    t = 0\n",
    "    \n",
    "    while np.linalg.norm(grad) > tol:\n",
    "#         print(grad)\n",
    "        eta = backtracking(eta_init, decay_rate, prop_constant, theta, *args)\n",
    "        alpha_t = theta - eta * svm_grad(theta, *args)\n",
    "        theta = alpha_t + (t/(t + 3)) * (alpha_t - alpha)\n",
    "        grad = svm_grad(alpha_t, *args)\n",
    "        iters.append(alpha_t)\n",
    "        alpha = alpha_t\n",
    "        t += 1\n",
    "    \n",
    "    return iters"
   ]
  },
  {
   "cell_type": "code",
   "execution_count": 38,
   "id": "wanted-multiple",
   "metadata": {},
   "outputs": [],
   "source": [
    "# Download the data\n",
    "digits = load_digits().data\n",
    "y = load_digits().target\n",
    "\n",
    "# Normalize and split 80/20 training and test\n",
    "digits = normalize(digits, norm = 'l2', axis = 1)\n",
    "X_train, X_test, y_train, y_test = train_test_split(digits, y, train_size = 0.8, random_state = 12345)"
   ]
  },
  {
   "cell_type": "code",
   "execution_count": 39,
   "id": "physical-raising",
   "metadata": {},
   "outputs": [],
   "source": [
    "digits = np.unique(y)\n",
    "classifiers = {}"
   ]
  },
  {
   "cell_type": "code",
   "execution_count": 40,
   "id": "charitable-uniform",
   "metadata": {},
   "outputs": [],
   "source": [
    "y_train_0 = np.where(y_train == 0, 1, -1)\n",
    "eta_init = 0.000001\n",
    "tol = 1.0\n",
    "alpha_init = np.zeros(X_train.shape[0])\n",
    "lam = 10.0\n",
    "b = 1\n",
    "p = 7\n",
    "K = computegram(kernal, X_train, b, p)\n",
    "svm_d = mysvm(eta_init, tol, alpha_init, K, X_train, y_train_0, lam)"
   ]
  },
  {
   "cell_type": "code",
   "execution_count": 41,
   "id": "turned-leadership",
   "metadata": {},
   "outputs": [],
   "source": [
    "obj = [svm_f(a, K, X_train, y_train_0, lam) for a in svm_d]"
   ]
  },
  {
   "cell_type": "code",
   "execution_count": 42,
   "id": "geographic-musical",
   "metadata": {},
   "outputs": [
    {
     "data": {
      "text/plain": [
       "Text(0, 0.5, 'SVM Objective Hinge Loss')"
      ]
     },
     "execution_count": 42,
     "metadata": {},
     "output_type": "execute_result"
    },
    {
     "data": {
      "image/png": "[encoded data removed]",
      "text/plain": [
       "<Figure size 432x288 with 1 Axes>"
      ]
     },
     "metadata": {
      "needs_background": "light"
     },
     "output_type": "display_data"
    }
   ],
   "source": [
    "plt.plot(obj, c = 'cornflowerblue')\n",
    "plt.title('SVM iterations: Digit = 0')\n",
    "plt.xlabel('Iterations')\n",
    "plt.ylabel('SVM Objective Hinge Loss')"
   ]
  },
  {
   "cell_type": "code",
   "execution_count": 49,
   "id": "otherwise-paragraph",
   "metadata": {},
   "outputs": [
    {
     "data": {
      "image/png": "[encoded data removed]",
      "text/plain": [
       "<Figure size 1152x576 with 10 Axes>"
      ]
     },
     "metadata": {
      "needs_background": "light"
     },
     "output_type": "display_data"
    }
   ],
   "source": [
    "eta_init = 0.000001\n",
    "tol = 1.0\n",
    "alpha_init = np.zeros(X_train.shape[0])\n",
    "lam = 10.0\n",
    "b = 1\n",
    "p = 7\n",
    "K = computegram(kernal, X_train, b, p)\n",
    "\n",
    "fig, axs = plt.subplots(2, 5, figsize = (16, 8))\n",
    "for d in digits:\n",
    "    row = np.where(d < 5, 0, 1)\n",
    "    col = d % 5\n",
    "    title = 'SVM Iterations: Digit = ' + str(d)\n",
    "    # train a classifier on y_i^d = 1 if y_i = d, -1 else\n",
    "    y_train_d = np.where(y_train == d, 1, -1)\n",
    "    svm_d = mysvm(eta_init, tol, alpha_init, K, X_train, y_train_d, lam)\n",
    "    classifiers[d] = svm_d[-1]\n",
    "    obj = [svm_f(a, K, X_train, y_train_d, lam) for a in svm_d]\n",
    "    axs[row, col].plot(obj, c = 'cornflowerblue')\n",
    "    axs[row, col].set_title(title)"
   ]
  },
  {
   "cell_type": "code",
   "execution_count": null,
   "id": "operating-journal",
   "metadata": {},
   "outputs": [],
   "source": []
  }
 ],
 "metadata": {
  "kernelspec": {
   "display_name": "Python [conda env:DATA558] *",
   "language": "python",
   "name": "conda-env-DATA558-py"
  },
  "language_info": {
   "codemirror_mode": {
    "name": "ipython",
    "version": 3
   },
   "file_extension": ".py",
   "mimetype": "text/x-python",
   "name": "python",
   "nbconvert_exporter": "python",
   "pygments_lexer": "ipython3",
   "version": "3.7.10"
  }
 },
 "nbformat": 4,
 "nbformat_minor": 5
}
