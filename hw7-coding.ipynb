{
 "cells": [
  {
   "cell_type": "markdown",
   "id": "palestinian-burst",
   "metadata": {},
   "source": [
    "# <center> Homework 7: Support Vector Machines </center>\n",
    "<center> Anushna Prakash </center>\n",
    "<center> May 28, 2021 </center>"
   ]
  },
  {
   "cell_type": "markdown",
   "id": "congressional-purse",
   "metadata": {},
   "source": [
    "$$ \\min_{\\alpha \\in \\mathbb{R}^n} F(\\alpha):= \\frac{1}{n} \\sum_{i=1}^{n} \\ell(y_i, (K\\alpha)_i) + \\lambda \\alpha^T K \\alpha$$  \n",
    "$$ \\min_{\\alpha \\in \\mathbb{R}^n} F(\\alpha):= \\frac{1}{n} \\sum_{i=1}^{n} (\\max \\{0, 1 - y_i (K\\alpha)_i\\})^2 + \\lambda \\alpha^T K \\alpha$$  \n",
    "$$ \\nabla F(\\alpha) = -\\frac{2}{n} \\sum_{i=1}^{n} K_i y_i  \\max \\{0, 1-y_i K_i^T \\alpha\\} + 2\\lambda K \\alpha $$  \n",
    "$$\n",
    "    \\nabla F(\\alpha) = \n",
    "    \\begin{cases}\n",
    "        -\\frac{2}{n} \\sum_{i=1}^{n} K_i y_i (1 - y_i K_i^T \\alpha) + 2 \\lambda K \\alpha, & \\text{for } 1-y_i(K\\alpha)_i > 0\\\\\n",
    "        2 \\lambda K \\alpha, & \\text{for } 1-y_i(K\\alpha)_i <= 0\\\\\n",
    "    \\end{cases}\n",
    "$$"
   ]
  },
  {
   "cell_type": "code",
   "execution_count": 1,
   "id": "plastic-villa",
   "metadata": {},
   "outputs": [],
   "source": [
    "import numpy as np\n",
    "import pandas as pd\n",
    "from sklearn.datasets import load_digits\n",
    "from sklearn.preprocessing import normalize\n",
    "from sklearn.model_selection import train_test_split\n",
    "import matplotlib.pyplot as plt"
   ]
  },
  {
   "cell_type": "code",
   "execution_count": 53,
   "id": "proved-affiliate",
   "metadata": {},
   "outputs": [],
   "source": [
    "def kernal(x, y, b, p):\n",
    "    return ((x @ y.T) + b)**p"
   ]
  },
  {
   "cell_type": "code",
   "execution_count": 54,
   "id": "complicated-parker",
   "metadata": {},
   "outputs": [],
   "source": [
    "def computegram(k, x, b, p):\n",
    "#     n = x.shape[0]\n",
    "#     K = np.empty(shape = (n, n))\n",
    "    \n",
    "    K = k(x, x, b, p)\n",
    "    return K"
   ]
  },
  {
   "cell_type": "code",
   "execution_count": 55,
   "id": "interstate-diploma",
   "metadata": {},
   "outputs": [],
   "source": [
    "def kernaleval(k, x, x_star, b, p):\n",
    "    kernal_evals = k(x, x_star, b, p)\n",
    "    \n",
    "    return kernal_evals"
   ]
  },
  {
   "cell_type": "code",
   "execution_count": 56,
   "id": "little-memorabilia",
   "metadata": {},
   "outputs": [],
   "source": [
    "def svm_f(alpha, gram, X, y, lambda_):\n",
    "    n = X.shape[0]\n",
    "    K_a = np.dot(gram, alpha)\n",
    "#     loss = 0\n",
    "#     for i in range(n):\n",
    "#         cond = 1.0 - y[i] * K_a[i]\n",
    "#         if cond > 0:\n",
    "#             loss += np.square(cond)\n",
    "    loss = 1.0 - np.multiply(y, K_a)\n",
    "    loss_condition = np.where(loss > 0, loss, 0)\n",
    "\n",
    "    return np.mean(np.square(loss_condition)) + lambda_ * (alpha.T @ gram @ alpha)"
   ]
  },
  {
   "cell_type": "code",
   "execution_count": 57,
   "id": "absent-quebec",
   "metadata": {},
   "outputs": [],
   "source": [
    "def svm_grad(alpha, gram, X, y, lambda_):\n",
    "    n = len(X)\n",
    "    K_a = np.dot(gram, alpha)\n",
    "    loss_condition = 1.0 - np.multiply(y, np.dot(gram, alpha))\n",
    "    reg = 2.0 * lambda_ * K_a\n",
    "    loss_delta = -2 * y * gram\n",
    "    loss = np.where(loss_condition > 0, loss_condition, 0)\n",
    "    loss_grad = loss_delta * loss\n",
    "    \n",
    "#     for i in range(n):\n",
    "#         if loss[i] > 0:\n",
    "#             K_y = gram[i] * y[i]\n",
    "#             loss_grad += -2 * K_y * loss[i]\n",
    "        \n",
    "    return (1/n) * np.sum(loss_grad, axis = 1) + reg"
   ]
  },
  {
   "cell_type": "code",
   "execution_count": 58,
   "id": "compact-repair",
   "metadata": {},
   "outputs": [],
   "source": [
    "def backtracking(eta_init, decay_rate, prop_constant, alpha, *args):\n",
    "    eta = eta_init\n",
    "    \n",
    "    def decrease_condition(eta):\n",
    "        grad = svm_grad(alpha, *args)\n",
    "        left = svm_f(alpha - eta * grad, *args) - svm_f(alpha, *args)\n",
    "        right = -eta * prop_constant * np.linalg.norm(grad)**2\n",
    "        return left <= right\n",
    "    \n",
    "    while not decrease_condition(eta):\n",
    "        eta *= decay_rate\n",
    "    \n",
    "    return eta"
   ]
  },
  {
   "cell_type": "code",
   "execution_count": 59,
   "id": "unnecessary-north",
   "metadata": {},
   "outputs": [],
   "source": [
    "def mysvm(eta_init, tol, alpha_init, *args):\n",
    "    theta = alpha_init.copy()\n",
    "    alpha = alpha_init.copy()\n",
    "    iters = [alpha]\n",
    "    grad = svm_grad(alpha, *args)\n",
    "    decay_rate = 0.3\n",
    "    prop_constant = 0.3\n",
    "    t = 0\n",
    "    \n",
    "    while np.linalg.norm(grad) > tol:\n",
    "#         print(grad)\n",
    "        eta = backtracking(eta_init, decay_rate, prop_constant, theta, *args)\n",
    "        alpha_t = theta - eta * svm_grad(theta, *args)\n",
    "        theta = alpha_t + (t/(t + 3)) * (alpha_t - alpha)\n",
    "        grad = svm_grad(alpha_t, *args)\n",
    "        iters.append(alpha_t)\n",
    "        alpha = alpha_t\n",
    "        t += 1\n",
    "    \n",
    "    return iters"
   ]
  },
  {
   "cell_type": "code",
   "execution_count": 60,
   "id": "refined-navigator",
   "metadata": {},
   "outputs": [],
   "source": [
    "# Download the data\n",
    "digits = load_digits().data\n",
    "y = load_digits().target\n",
    "\n",
    "# Normalize and split 80/20 training and test\n",
    "digits = normalize(digits, norm = 'l2', axis = 1)\n",
    "X_train, X_test, y_train, y_test = train_test_split(digits, y, train_size = 0.8, random_state = 12345)"
   ]
  },
  {
   "cell_type": "code",
   "execution_count": 61,
   "id": "initial-jumping",
   "metadata": {},
   "outputs": [],
   "source": [
    "digits = np.unique(y)\n",
    "classifiers = {}"
   ]
  },
  {
   "cell_type": "code",
   "execution_count": 62,
   "id": "bibliographic-intake",
   "metadata": {
    "scrolled": true
   },
   "outputs": [
    {
     "data": {
      "text/plain": [
       "<matplotlib.legend.Legend at 0x7f35d5342610>"
      ]
     },
     "execution_count": 62,
     "metadata": {},
     "output_type": "execute_result"
    },
    {
     "data": {
      "image/png": "[encoded data removed]",
      "text/plain": [
       "<Figure size 576x360 with 1 Axes>"
      ]
     },
     "metadata": {
      "needs_background": "light"
     },
     "output_type": "display_data"
    }
   ],
   "source": [
    "eta_init = 0.000001\n",
    "tol = 1.0\n",
    "alpha_init = np.zeros(X_train.shape[0])\n",
    "lam = 10.0\n",
    "B = 1\n",
    "P = 7\n",
    "K = computegram(kernal, X_train, B, P)\n",
    "\n",
    "plt.figure(figsize = (8, 5))\n",
    "for d in digits:\n",
    "    # train a classifier on y_i^d = 1 if y_i = d, -1 else\n",
    "    colors = {0: 'cornflowerblue', 1: 'chocolate', 2: 'seagreen', 3: 'indianred', 4: 'gold',\n",
    "              5: 'purple', 6: 'saddlebrown', 7: 'teal', 8: 'lightpink', 9: 'slategrey'}\n",
    "    y_train_d = np.where(y_train == d, 1, -1)\n",
    "    svm_d = mysvm(eta_init, tol, alpha_init, K, X_train, y_train_d, lam)\n",
    "    classifiers[d] = svm_d[-1]\n",
    "    obj = [svm_f(a, K, X_train, y_train_d, lam) for a in svm_d]\n",
    "    plt.plot(obj, c = colors[d])\n",
    "\n",
    "plt.title('SVM Objective vs. Iterations')\n",
    "plt.legend(labels = digits)"
   ]
  },
  {
   "cell_type": "code",
   "execution_count": 32,
   "id": "frank-lightning",
   "metadata": {},
   "outputs": [],
   "source": [
    "def accuracy(truth, preds):\n",
    "    return np.mean(truth == preds)\n",
    "\n",
    "def preds_kernal(alpha, x, x_star, *args):\n",
    "    preds = alpha @ kernaleval(kernal, x, x_star, *args)\n",
    "    \n",
    "    return np.where(preds > 0, 1, -1)"
   ]
  },
  {
   "cell_type": "code",
   "execution_count": 33,
   "id": "7a4313da",
   "metadata": {},
   "outputs": [
    {
     "data": {
      "text/plain": [
       "0.9138888888888889"
      ]
     },
     "execution_count": 33,
     "metadata": {},
     "output_type": "execute_result"
    }
   ],
   "source": [
    "y_0 = np.where(y_test == 0, 1, -1)\n",
    "preds = preds_kernal(classifiers[0], X_train, X_test, B, P)\n",
    "accuracy(y_0, preds)"
   ]
  },
  {
   "cell_type": "code",
   "execution_count": 63,
   "id": "f8cfda09",
   "metadata": {},
   "outputs": [],
   "source": [
    "def get_fold_indices(n, K, j):\n",
    "    fold_size = n // K\n",
    "    \n",
    "    idx = np.arange(n)\n",
    "    val_idx = idx[j * fold_size : (j+1) * fold_size]\n",
    "    \n",
    "    if j == 0: \n",
    "        train_idx = idx[fold_size : n]\n",
    "    elif j == K-1:\n",
    "        train_idx = idx[0 : (K-1) * fold_size]\n",
    "    else:\n",
    "        first_range = idx[0 : j * fold_size]\n",
    "        second_range = idx[(j+1) * fold_size : n]\n",
    "        train_idx = np.concatenate((first_range, second_range))\n",
    "    \n",
    "    return train_idx, val_idx\n",
    "\n",
    "def K_fold_cross_validation(folds, digit, lambdas, X, y):\n",
    "    \n",
    "    n = len(X)\n",
    "    best_lambda = None\n",
    "    best_performance = 0.0\n",
    "    y_d = np.where(y == digit, 1, -1)\n",
    "    eta_init = 1e-6\n",
    "    tol = 1.0\n",
    "    B = 1\n",
    "    P = 7\n",
    "        \n",
    "    for i, lam in enumerate(lambdas):\n",
    "        \n",
    "        print(\"---------------------------------------------------\")\n",
    "        print(\"Evaluating lambda =\", lam, end=\"\")\n",
    "        \n",
    "        accuracies = np.zeros(folds)\n",
    "        for j in range(folds):\n",
    "            \n",
    "            print(\".\", end=\"\")\n",
    "            \n",
    "            # Subset into training and validation set.\n",
    "            train_idx, val_idx = get_fold_indices(n, folds, j)\n",
    "            X_train, y_train = X[train_idx], y_d[train_idx]\n",
    "            X_val, y_val = X[val_idx], y_d[val_idx]\n",
    "            \n",
    "            # Train on the training set.\n",
    "            gram = computegram(kernal, X_train, B, P)\n",
    "            a_init = np.zeros(X_train.shape[0])\n",
    "            alpha = mysvm(eta_init, tol, a_init, gram, X_train, y_train, lam)[-1]\n",
    "            \n",
    "            # Evaluate on the validation set.\n",
    "            \n",
    "            val_preds = preds_kernal(alpha, X_train, X_val, B, P)\n",
    "            accuracies[j] = accuracy(y_val, val_preds)\n",
    "        \n",
    "        performance = np.mean(accuracies)\n",
    "        print(\"\")\n",
    "        print(\"Average Accuracy:\", performance)\n",
    "        print(\"---------------------------------------------------\")\n",
    "        \n",
    "        if performance > best_performance:\n",
    "            best_performance = performance\n",
    "            best_lambda = lam\n",
    "            \n",
    "    return best_lambda, best_performance"
   ]
  },
  {
   "cell_type": "code",
   "execution_count": 65,
   "id": "c63f6796",
   "metadata": {},
   "outputs": [
    {
     "name": "stdout",
     "output_type": "stream",
     "text": [
      "---------------------------------------------------\n",
      "Evaluating lambda = 0.001.....\n",
      "Average Accuracy: 0.9790940766550522\n",
      "---------------------------------------------------\n",
      "---------------------------------------------------\n",
      "Evaluating lambda = 0.03162277660168379.....\n",
      "Average Accuracy: 0.9763066202090593\n",
      "---------------------------------------------------\n",
      "---------------------------------------------------\n",
      "Evaluating lambda = 1.0.....\n",
      "Average Accuracy: 0.937979094076655\n",
      "---------------------------------------------------\n",
      "---------------------------------------------------\n",
      "Evaluating lambda = 31.622776601683793.....\n",
      "Average Accuracy: 0.90801393728223\n",
      "---------------------------------------------------\n",
      "---------------------------------------------------\n",
      "Evaluating lambda = 1000.0.....\n",
      "Average Accuracy: 0.90801393728223\n",
      "---------------------------------------------------\n"
     ]
    },
    {
     "data": {
      "text/plain": [
       "(0.001, 0.9790940766550522)"
      ]
     },
     "execution_count": 65,
     "metadata": {},
     "output_type": "execute_result"
    }
   ],
   "source": [
    "# Run on digit = 8\n",
    "lambdas = np.logspace(-3, 3, 5)\n",
    "K_fold_cross_validation(5, 8, lambdas, X_train, y_train)"
   ]
  },
  {
   "cell_type": "code",
   "execution_count": 67,
   "id": "1e233d54",
   "metadata": {},
   "outputs": [
    {
     "name": "stdout",
     "output_type": "stream",
     "text": [
      "---------------------------------------------------\n",
      "Evaluating lambda = 0.01.....\n",
      "Average Accuracy: 0.9986062717770036\n",
      "---------------------------------------------------\n",
      "---------------------------------------------------\n",
      "Evaluating lambda = 0.1.....\n",
      "Average Accuracy: 0.9986062717770036\n",
      "---------------------------------------------------\n",
      "---------------------------------------------------\n",
      "Evaluating lambda = 1.0.....\n",
      "Average Accuracy: 0.9979094076655052\n",
      "---------------------------------------------------\n",
      "---------------------------------------------------\n",
      "Evaluating lambda = 10.0.....\n",
      "Average Accuracy: 0.9073170731707318\n",
      "---------------------------------------------------\n",
      "---------------------------------------------------\n",
      "Evaluating lambda = 100.0.....\n",
      "Average Accuracy: 0.9017421602787457\n",
      "---------------------------------------------------\n",
      "Digit  0  has optimal accuracy with lambda =  0.01 . Accuracy =  0.9986062717770036\n",
      "---------------------------------------------------\n",
      "Evaluating lambda = 0.01.....\n",
      "Average Accuracy: 0.9860627177700347\n",
      "---------------------------------------------------\n",
      "---------------------------------------------------\n",
      "Evaluating lambda = 0.1.....\n",
      "Average Accuracy: 0.9867595818815331\n",
      "---------------------------------------------------\n",
      "---------------------------------------------------\n",
      "Evaluating lambda = 1.0.....\n",
      "Average Accuracy: 0.9707317073170731\n",
      "---------------------------------------------------\n",
      "---------------------------------------------------\n",
      "Evaluating lambda = 10.0.....\n",
      "Average Accuracy: 0.897560975609756\n",
      "---------------------------------------------------\n",
      "---------------------------------------------------\n",
      "Evaluating lambda = 100.0.....\n",
      "Average Accuracy: 0.897560975609756\n",
      "---------------------------------------------------\n",
      "Digit  1  has optimal accuracy with lambda =  0.1 . Accuracy =  0.9867595818815331\n",
      "---------------------------------------------------\n",
      "Evaluating lambda = 0.01.....\n",
      "Average Accuracy: 0.9979094076655054\n",
      "---------------------------------------------------\n",
      "---------------------------------------------------\n",
      "Evaluating lambda = 0.1.....\n",
      "Average Accuracy: 0.9986062717770036\n",
      "---------------------------------------------------\n",
      "---------------------------------------------------\n",
      "Evaluating lambda = 1.0.....\n",
      "Average Accuracy: 0.9867595818815331\n",
      "---------------------------------------------------\n",
      "---------------------------------------------------\n",
      "Evaluating lambda = 10.0.....\n",
      "Average Accuracy: 0.8975609756097562\n",
      "---------------------------------------------------\n",
      "---------------------------------------------------\n",
      "Evaluating lambda = 100.0.....\n",
      "Average Accuracy: 0.8961672473867596\n",
      "---------------------------------------------------\n",
      "Digit  2  has optimal accuracy with lambda =  0.1 . Accuracy =  0.9986062717770036\n",
      "---------------------------------------------------\n",
      "Evaluating lambda = 0.01.....\n",
      "Average Accuracy: 0.9867595818815331\n",
      "---------------------------------------------------\n",
      "---------------------------------------------------\n",
      "Evaluating lambda = 0.1.....\n",
      "Average Accuracy: 0.986759581881533\n",
      "---------------------------------------------------\n",
      "---------------------------------------------------\n",
      "Evaluating lambda = 1.0.....\n",
      "Average Accuracy: 0.9749128919860628\n",
      "---------------------------------------------------\n",
      "---------------------------------------------------\n",
      "Evaluating lambda = 10.0.....\n",
      "Average Accuracy: 0.897560975609756\n",
      "---------------------------------------------------\n",
      "---------------------------------------------------\n",
      "Evaluating lambda = 100.0.....\n",
      "Average Accuracy: 0.897560975609756\n",
      "---------------------------------------------------\n",
      "Digit  3  has optimal accuracy with lambda =  0.01 . Accuracy =  0.9867595818815331\n",
      "---------------------------------------------------\n",
      "Evaluating lambda = 0.01.....\n",
      "Average Accuracy: 0.9965156794425087\n",
      "---------------------------------------------------\n",
      "---------------------------------------------------\n",
      "Evaluating lambda = 0.1.....\n",
      "Average Accuracy: 0.997212543554007\n",
      "---------------------------------------------------\n",
      "---------------------------------------------------\n",
      "Evaluating lambda = 1.0.....\n",
      "Average Accuracy: 0.9923344947735192\n",
      "---------------------------------------------------\n",
      "---------------------------------------------------\n",
      "Evaluating lambda = 10.0.....\n",
      "Average Accuracy: 0.9066202090592335\n",
      "---------------------------------------------------\n",
      "---------------------------------------------------\n",
      "Evaluating lambda = 100.0.....\n",
      "Average Accuracy: 0.9059233449477352\n",
      "---------------------------------------------------\n",
      "Digit  4  has optimal accuracy with lambda =  0.1 . Accuracy =  0.997212543554007\n",
      "---------------------------------------------------\n",
      "Evaluating lambda = 0.01.....\n",
      "Average Accuracy: 0.9930313588850174\n",
      "---------------------------------------------------\n",
      "---------------------------------------------------\n",
      "Evaluating lambda = 0.1.....\n",
      "Average Accuracy: 0.9930313588850174\n",
      "---------------------------------------------------\n",
      "---------------------------------------------------\n",
      "Evaluating lambda = 1.0.....\n",
      "Average Accuracy: 0.9874564459930312\n",
      "---------------------------------------------------\n",
      "---------------------------------------------------\n",
      "Evaluating lambda = 10.0.....\n",
      "Average Accuracy: 0.8989547038327526\n",
      "---------------------------------------------------\n",
      "---------------------------------------------------\n",
      "Evaluating lambda = 100.0.....\n",
      "Average Accuracy: 0.8989547038327526\n",
      "---------------------------------------------------\n",
      "Digit  5  has optimal accuracy with lambda =  0.01 . Accuracy =  0.9930313588850174\n",
      "---------------------------------------------------\n",
      "Evaluating lambda = 0.01.....\n",
      "Average Accuracy: 0.9937282229965156\n",
      "---------------------------------------------------\n",
      "---------------------------------------------------\n",
      "Evaluating lambda = 0.1.....\n",
      "Average Accuracy: 0.994425087108014\n",
      "---------------------------------------------------\n",
      "---------------------------------------------------\n",
      "Evaluating lambda = 1.0.....\n",
      "Average Accuracy: 0.9916376306620209\n",
      "---------------------------------------------------\n",
      "---------------------------------------------------\n",
      "Evaluating lambda = 10.0.....\n",
      "Average Accuracy: 0.9142857142857143\n",
      "---------------------------------------------------\n",
      "---------------------------------------------------\n",
      "Evaluating lambda = 100.0.....\n",
      "Average Accuracy: 0.9031358885017422\n",
      "---------------------------------------------------\n",
      "Digit  6  has optimal accuracy with lambda =  0.1 . Accuracy =  0.994425087108014\n",
      "---------------------------------------------------\n",
      "Evaluating lambda = 0.01.....\n",
      "Average Accuracy: 0.9930313588850174\n",
      "---------------------------------------------------\n",
      "---------------------------------------------------\n",
      "Evaluating lambda = 0.1.....\n",
      "Average Accuracy: 0.9951219512195122\n",
      "---------------------------------------------------\n",
      "---------------------------------------------------\n",
      "Evaluating lambda = 1.0.....\n",
      "Average Accuracy: 0.9888501742160278\n",
      "---------------------------------------------------\n",
      "---------------------------------------------------\n",
      "Evaluating lambda = 10.0.....\n",
      "Average Accuracy: 0.8989547038327526\n",
      "---------------------------------------------------\n",
      "---------------------------------------------------\n",
      "Evaluating lambda = 100.0.....\n",
      "Average Accuracy: 0.894773519163763\n",
      "---------------------------------------------------\n",
      "Digit  7  has optimal accuracy with lambda =  0.1 . Accuracy =  0.9951219512195122\n",
      "---------------------------------------------------\n",
      "Evaluating lambda = 0.01.....\n",
      "Average Accuracy: 0.9763066202090593\n",
      "---------------------------------------------------\n",
      "---------------------------------------------------\n",
      "Evaluating lambda = 0.1.....\n",
      "Average Accuracy: 0.9770034843205575\n",
      "---------------------------------------------------\n",
      "---------------------------------------------------\n",
      "Evaluating lambda = 1.0.....\n",
      "Average Accuracy: 0.937979094076655\n",
      "---------------------------------------------------\n",
      "---------------------------------------------------\n",
      "Evaluating lambda = 10.0.....\n",
      "Average Accuracy: 0.90801393728223\n",
      "---------------------------------------------------\n",
      "---------------------------------------------------\n"
     ]
    },
    {
     "name": "stdout",
     "output_type": "stream",
     "text": [
      "Evaluating lambda = 100.0.....\n",
      "Average Accuracy: 0.90801393728223\n",
      "---------------------------------------------------\n",
      "Digit  8  has optimal accuracy with lambda =  0.1 . Accuracy =  0.9770034843205575\n",
      "---------------------------------------------------\n",
      "Evaluating lambda = 0.01.....\n",
      "Average Accuracy: 0.9916376306620208\n",
      "---------------------------------------------------\n",
      "---------------------------------------------------\n",
      "Evaluating lambda = 0.1.....\n",
      "Average Accuracy: 0.992334494773519\n",
      "---------------------------------------------------\n",
      "---------------------------------------------------\n",
      "Evaluating lambda = 1.0.....\n",
      "Average Accuracy: 0.9616724738675959\n",
      "---------------------------------------------------\n",
      "---------------------------------------------------\n",
      "Evaluating lambda = 10.0.....\n",
      "Average Accuracy: 0.8961672473867595\n",
      "---------------------------------------------------\n",
      "---------------------------------------------------\n",
      "Evaluating lambda = 100.0.....\n",
      "Average Accuracy: 0.8961672473867595\n",
      "---------------------------------------------------\n",
      "Digit  9  has optimal accuracy with lambda =  0.1 . Accuracy =  0.992334494773519\n"
     ]
    }
   ],
   "source": [
    "# Run 5-fold CV on all digit classifiers\n",
    "lambdas = np.logspace(-2, 2, 5)\n",
    "cv_lams = {}\n",
    "\n",
    "for d in digits:\n",
    "    best_lam, best_acc = K_fold_cross_validation(5, d, lambdas, X_train, y_train)\n",
    "    cv_lams[d] = best_lam\n",
    "    print(\"Digit \", d, \" has optimal accuracy with lambda = \", best_lam, \". Accuracy = \", best_acc)"
   ]
  },
  {
   "cell_type": "code",
   "execution_count": 78,
   "id": "814eac6b",
   "metadata": {},
   "outputs": [
    {
     "name": "stdout",
     "output_type": "stream",
     "text": [
      "   Optimal Lambda\n",
      "0            0.01\n",
      "1            0.10\n",
      "2            0.10\n",
      "3            0.01\n",
      "4            0.10\n",
      "5            0.01\n",
      "6            0.10\n",
      "7            0.10\n",
      "8            0.10\n",
      "9            0.10\n"
     ]
    }
   ],
   "source": [
    "print(pd.DataFrame.from_dict(cv_lams, orient = 'index', columns = ['Optimal Lambda']))"
   ]
  },
  {
   "cell_type": "code",
   "execution_count": null,
   "id": "9d7cb777",
   "metadata": {},
   "outputs": [],
   "source": [
    "eta_init = 0.000001\n",
    "tol = 1.0\n",
    "alpha_init = np.zeros(X_train.shape[0])\n",
    "B = 1\n",
    "P = 7\n",
    "K = computegram(kernal, X_train, B, P)\n",
    "\n",
    "for d in digits:\n",
    "    y_train_d = np.where(y_train == d, 1, -1)\n",
    "    svm_d = mysvm(eta_init, tol, alpha_init, K, X_train, y_train_d, cv_lams[d])\n",
    "    classifiers[d] = svm_d[-1]"
   ]
  }
 ],
 "metadata": {
  "kernelspec": {
   "display_name": "Python [conda env:DATA558] *",
   "language": "python",
   "name": "conda-env-DATA558-py"
  },
  "language_info": {
   "codemirror_mode": {
    "name": "ipython",
    "version": 3
   },
   "file_extension": ".py",
   "mimetype": "text/x-python",
   "name": "python",
   "nbconvert_exporter": "python",
   "pygments_lexer": "ipython3",
   "version": "3.7.10"
  }
 },
 "nbformat": 4,
 "nbformat_minor": 5
}
