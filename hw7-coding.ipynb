{
 "cells": [
  {
   "cell_type": "markdown",
   "id": "convenient-benjamin",
   "metadata": {},
   "source": [
    "# <center> Homework 7: Support Vector Machines </center>\n",
    "<center> Anushna Prakash </center>\n",
    "<center> May 28, 2021 </center>"
   ]
  },
  {
   "cell_type": "markdown",
   "id": "handed-crisis",
   "metadata": {},
   "source": [
    "$$ \\min_{\\alpha \\in \\mathbb{R}^n} F(\\alpha):= \\frac{1}{n} \\sum_{i=1}^{n} \\ell(y_i, (K\\alpha)_i) + \\lambda \\alpha^T K \\alpha$$  \n",
    "$$ \\min_{\\alpha \\in \\mathbb{R}^n} F(\\alpha):= \\frac{1}{n} \\sum_{i=1}^{n} (\\max \\{0, 1 - y_i (K\\alpha)_i\\})^2 + \\lambda \\alpha^T K \\alpha$$  \n",
    "$$ \\nabla F(\\alpha) = -\\frac{2}{n} \\sum_{i=1}^{n} K_i y_i  \\max \\{0, 1-y_i K_i^T \\alpha\\} + 2\\lambda K \\alpha $$  \n",
    "$$\n",
    "    \\nabla F(\\alpha) = \n",
    "    \\begin{cases}\n",
    "        -\\frac{2}{n} \\sum_{i=1}^{n} K_i y_i (1 - y_i K_i^T \\alpha) + 2 \\lambda K \\alpha, & \\text{for } 1-y_i(K\\alpha)_i > 0\\\\\n",
    "        2 \\lambda K \\alpha, & \\text{for } 1-y_i(K\\alpha)_i <= 0\\\\\n",
    "    \\end{cases}\n",
    "$$"
   ]
  },
  {
   "cell_type": "code",
   "execution_count": 1,
   "id": "central-watts",
   "metadata": {},
   "outputs": [],
   "source": [
    "import numpy as np\n",
    "import pandas as pd\n",
    "from sklearn.datasets import load_digits\n",
    "from sklearn.preprocessing import normalize\n",
    "from sklearn.model_selection import train_test_split\n",
    "import matplotlib.pyplot as plt"
   ]
  },
  {
   "cell_type": "code",
   "execution_count": 2,
   "id": "approved-creature",
   "metadata": {},
   "outputs": [],
   "source": [
    "def kernal(x, y, b, p):\n",
    "    return (np.dot(x.T, y) + b)**p"
   ]
  },
  {
   "cell_type": "code",
   "execution_count": 3,
   "id": "narrow-synthesis",
   "metadata": {},
   "outputs": [],
   "source": [
    "def computegram(k, x, b, p):\n",
    "    n = x.shape[0]\n",
    "    K = np.empty(shape = (n, n))\n",
    "    \n",
    "    for i, v in enumerate(x):\n",
    "        for j, w in enumerate(x):\n",
    "            K[i][j] = k(v, w, b, p)\n",
    "    \n",
    "    return K"
   ]
  },
  {
   "cell_type": "code",
   "execution_count": 4,
   "id": "built-wales",
   "metadata": {},
   "outputs": [],
   "source": [
    "def kernaleval(k, x, x_star, b, p):\n",
    "    kernal_evals = np.empty(len(x))\n",
    "    for i, v in enumerate(x):\n",
    "        kernal_evals[i] = k(v, x_star, b, p)\n",
    "    \n",
    "    return kernal_evals"
   ]
  },
  {
   "cell_type": "code",
   "execution_count": 5,
   "id": "political-politics",
   "metadata": {},
   "outputs": [],
   "source": [
    "def svm_f(alpha, X, y, lambda_, b, p):\n",
    "    n = X.shape[0]\n",
    "    K = computegram(kernal, X, b, p) # nxn matrix\n",
    "    K_a = np.dot(K, alpha)\n",
    "    loss = 0\n",
    "    for i in range(n):\n",
    "        cond = 1.0 - y[i] * K_a[i]\n",
    "        if cond > 0:\n",
    "            loss += cond**2\n",
    "#     loss = np.maximum(0, 1.0 - np.multiply(y, np.dot(K, alpha)))\n",
    "\n",
    "    return (1.0/n) * loss + lambda_ * (alpha.T @ K @ alpha)"
   ]
  },
  {
   "cell_type": "code",
   "execution_count": 6,
   "id": "elegant-surfing",
   "metadata": {},
   "outputs": [],
   "source": [
    "def svm_grad(alpha, X, y, lambda_, b, p):\n",
    "    n = len(X)\n",
    "    K = computegram(kernal, X, b, p)\n",
    "    K_a = np.dot(K, alpha)\n",
    "#     loss = 1.0 - np.multiply(y, np.dot(K, alpha))\n",
    "    reg = 2.0 * lambda_ * K_a\n",
    "    loss_grad = np.zeros(reg.shape)\n",
    "    \n",
    "    for i in range(n):\n",
    "        cond = 1.0 - y[i] * K_a[i]\n",
    "        K_y = K[i] * y[i]\n",
    "        if cond > 0:\n",
    "            loss_grad += -2 * K_y * cond\n",
    "        \n",
    "    return (1/n) * loss_grad + reg "
   ]
  },
  {
   "cell_type": "code",
   "execution_count": 7,
   "id": "compatible-pennsylvania",
   "metadata": {},
   "outputs": [],
   "source": [
    "def backtracking(eta_init, decay_rate, prop_constant, alpha, *args):\n",
    "    eta = eta_init\n",
    "    \n",
    "    def decrease_condition(eta):\n",
    "        grad = svm_grad(alpha, *args)\n",
    "        left = svm_f(alpha - eta * grad, *args) - svm_f(alpha, *args)\n",
    "        right = eta * prop_constant * np.linalg.norm(grad)**2\n",
    "        return left <= right\n",
    "    \n",
    "    while not decrease_condition(eta):\n",
    "        eta *= decay_rate\n",
    "    \n",
    "    return eta"
   ]
  },
  {
   "cell_type": "code",
   "execution_count": 8,
   "id": "equipped-latino",
   "metadata": {},
   "outputs": [],
   "source": [
    "def mysvm(eta_init, tol, alpha_init, *args):\n",
    "    theta = alpha_init.copy()\n",
    "    alpha = alpha_init.copy()\n",
    "    iters = [alpha]\n",
    "    grad = svm_grad(alpha, *args)\n",
    "    decay_rate = 0.8\n",
    "    prop_constant = 0.3\n",
    "    t = 0\n",
    "    \n",
    "    while np.linalg.norm(grad) > tol:\n",
    "        print(grad)\n",
    "        eta = backtracking(eta_init, decay_rate, prop_constant, theta, *args)\n",
    "        alpha_t = theta - eta * svm_grad(theta, *args)\n",
    "        theta = alpha_t + (t/(t + 3)) * (alpha_t - alpha)\n",
    "        grad = svm_grad(alpha_t, *args)\n",
    "        iters.append(alpha_t)\n",
    "        alpha = alpha_t\n",
    "        t += 1\n",
    "    \n",
    "    return iters"
   ]
  },
  {
   "cell_type": "code",
   "execution_count": 9,
   "id": "ordered-dispute",
   "metadata": {},
   "outputs": [],
   "source": [
    "# Download the data\n",
    "digits = load_digits().data\n",
    "y = load_digits().target\n",
    "\n",
    "# Normalize and split 80/20 training and test\n",
    "digits = normalize(digits, norm = 'l2', axis = 1)\n",
    "X_train, X_test, y_train, y_test = train_test_split(digits, y, train_size = 0.8, random_state = 12345)"
   ]
  },
  {
   "cell_type": "code",
   "execution_count": 10,
   "id": "united-lottery",
   "metadata": {},
   "outputs": [],
   "source": [
    "digits = np.unique(y)\n",
    "classifiers = {}"
   ]
  },
  {
   "cell_type": "code",
   "execution_count": 11,
   "id": "experienced-amount",
   "metadata": {},
   "outputs": [
    {
     "name": "stdout",
     "output_type": "stream",
     "text": [
      "[49.32929849 73.19343087 57.71184788 ... 68.70622177 69.47171828\n",
      " 67.93753343]\n"
     ]
    },
    {
     "ename": "KeyboardInterrupt",
     "evalue": "",
     "output_type": "error",
     "traceback": [
      "\u001b[0;31m---------------------------------------------------------------------------\u001b[0m",
      "\u001b[0;31mKeyboardInterrupt\u001b[0m                         Traceback (most recent call last)",
      "\u001b[0;32m<ipython-input-11-1d006b96c37c>\u001b[0m in \u001b[0;36m<module>\u001b[0;34m\u001b[0m\n\u001b[1;32m      6\u001b[0m \u001b[0mb\u001b[0m \u001b[0;34m=\u001b[0m \u001b[0;36m1\u001b[0m\u001b[0;34m\u001b[0m\u001b[0;34m\u001b[0m\u001b[0m\n\u001b[1;32m      7\u001b[0m \u001b[0mp\u001b[0m \u001b[0;34m=\u001b[0m \u001b[0;36m7\u001b[0m\u001b[0;34m\u001b[0m\u001b[0;34m\u001b[0m\u001b[0m\n\u001b[0;32m----> 8\u001b[0;31m \u001b[0msvm_d\u001b[0m \u001b[0;34m=\u001b[0m \u001b[0mmysvm\u001b[0m\u001b[0;34m(\u001b[0m\u001b[0meta_init\u001b[0m\u001b[0;34m,\u001b[0m \u001b[0mtol\u001b[0m\u001b[0;34m,\u001b[0m \u001b[0malpha_init\u001b[0m\u001b[0;34m,\u001b[0m \u001b[0mX_train\u001b[0m\u001b[0;34m,\u001b[0m \u001b[0my_train_0\u001b[0m\u001b[0;34m,\u001b[0m \u001b[0mlam\u001b[0m\u001b[0;34m,\u001b[0m \u001b[0mb\u001b[0m\u001b[0;34m,\u001b[0m \u001b[0mp\u001b[0m\u001b[0;34m)\u001b[0m\u001b[0;34m\u001b[0m\u001b[0;34m\u001b[0m\u001b[0m\n\u001b[0m",
      "\u001b[0;32m<ipython-input-8-a38518c2fa7b>\u001b[0m in \u001b[0;36mmysvm\u001b[0;34m(eta_init, tol, alpha_init, *args)\u001b[0m\n\u001b[1;32m     10\u001b[0m     \u001b[0;32mwhile\u001b[0m \u001b[0mnp\u001b[0m\u001b[0;34m.\u001b[0m\u001b[0mlinalg\u001b[0m\u001b[0;34m.\u001b[0m\u001b[0mnorm\u001b[0m\u001b[0;34m(\u001b[0m\u001b[0mgrad\u001b[0m\u001b[0;34m)\u001b[0m \u001b[0;34m>\u001b[0m \u001b[0mtol\u001b[0m\u001b[0;34m:\u001b[0m\u001b[0;34m\u001b[0m\u001b[0;34m\u001b[0m\u001b[0m\n\u001b[1;32m     11\u001b[0m         \u001b[0mprint\u001b[0m\u001b[0;34m(\u001b[0m\u001b[0mgrad\u001b[0m\u001b[0;34m)\u001b[0m\u001b[0;34m\u001b[0m\u001b[0;34m\u001b[0m\u001b[0m\n\u001b[0;32m---> 12\u001b[0;31m         \u001b[0meta\u001b[0m \u001b[0;34m=\u001b[0m \u001b[0mbacktracking\u001b[0m\u001b[0;34m(\u001b[0m\u001b[0meta_init\u001b[0m\u001b[0;34m,\u001b[0m \u001b[0mdecay_rate\u001b[0m\u001b[0;34m,\u001b[0m \u001b[0mprop_constant\u001b[0m\u001b[0;34m,\u001b[0m \u001b[0mtheta\u001b[0m\u001b[0;34m,\u001b[0m \u001b[0;34m*\u001b[0m\u001b[0margs\u001b[0m\u001b[0;34m)\u001b[0m\u001b[0;34m\u001b[0m\u001b[0;34m\u001b[0m\u001b[0m\n\u001b[0m\u001b[1;32m     13\u001b[0m         \u001b[0malpha_t\u001b[0m \u001b[0;34m=\u001b[0m \u001b[0mtheta\u001b[0m \u001b[0;34m-\u001b[0m \u001b[0meta\u001b[0m \u001b[0;34m*\u001b[0m \u001b[0msvm_grad\u001b[0m\u001b[0;34m(\u001b[0m\u001b[0mtheta\u001b[0m\u001b[0;34m,\u001b[0m \u001b[0;34m*\u001b[0m\u001b[0margs\u001b[0m\u001b[0;34m)\u001b[0m\u001b[0;34m\u001b[0m\u001b[0;34m\u001b[0m\u001b[0m\n\u001b[1;32m     14\u001b[0m         \u001b[0mtheta\u001b[0m \u001b[0;34m=\u001b[0m \u001b[0malpha_t\u001b[0m \u001b[0;34m+\u001b[0m \u001b[0;34m(\u001b[0m\u001b[0mt\u001b[0m\u001b[0;34m/\u001b[0m\u001b[0;34m(\u001b[0m\u001b[0mt\u001b[0m \u001b[0;34m+\u001b[0m \u001b[0;36m3\u001b[0m\u001b[0;34m)\u001b[0m\u001b[0;34m)\u001b[0m \u001b[0;34m*\u001b[0m \u001b[0;34m(\u001b[0m\u001b[0malpha_t\u001b[0m \u001b[0;34m-\u001b[0m \u001b[0malpha\u001b[0m\u001b[0;34m)\u001b[0m\u001b[0;34m\u001b[0m\u001b[0;34m\u001b[0m\u001b[0m\n",
      "\u001b[0;32m<ipython-input-7-5c2b66fc6b81>\u001b[0m in \u001b[0;36mbacktracking\u001b[0;34m(eta_init, decay_rate, prop_constant, alpha, *args)\u001b[0m\n\u001b[1;32m      8\u001b[0m         \u001b[0;32mreturn\u001b[0m \u001b[0mleft\u001b[0m \u001b[0;34m<=\u001b[0m \u001b[0mright\u001b[0m\u001b[0;34m\u001b[0m\u001b[0;34m\u001b[0m\u001b[0m\n\u001b[1;32m      9\u001b[0m \u001b[0;34m\u001b[0m\u001b[0m\n\u001b[0;32m---> 10\u001b[0;31m     \u001b[0;32mwhile\u001b[0m \u001b[0;32mnot\u001b[0m \u001b[0mdecrease_condition\u001b[0m\u001b[0;34m(\u001b[0m\u001b[0meta\u001b[0m\u001b[0;34m)\u001b[0m\u001b[0;34m:\u001b[0m\u001b[0;34m\u001b[0m\u001b[0;34m\u001b[0m\u001b[0m\n\u001b[0m\u001b[1;32m     11\u001b[0m         \u001b[0meta\u001b[0m \u001b[0;34m*=\u001b[0m \u001b[0mdecay_rate\u001b[0m\u001b[0;34m\u001b[0m\u001b[0;34m\u001b[0m\u001b[0m\n\u001b[1;32m     12\u001b[0m \u001b[0;34m\u001b[0m\u001b[0m\n",
      "\u001b[0;32m<ipython-input-7-5c2b66fc6b81>\u001b[0m in \u001b[0;36mdecrease_condition\u001b[0;34m(eta)\u001b[0m\n\u001b[1;32m      4\u001b[0m     \u001b[0;32mdef\u001b[0m \u001b[0mdecrease_condition\u001b[0m\u001b[0;34m(\u001b[0m\u001b[0meta\u001b[0m\u001b[0;34m)\u001b[0m\u001b[0;34m:\u001b[0m\u001b[0;34m\u001b[0m\u001b[0;34m\u001b[0m\u001b[0m\n\u001b[1;32m      5\u001b[0m         \u001b[0mgrad\u001b[0m \u001b[0;34m=\u001b[0m \u001b[0msvm_grad\u001b[0m\u001b[0;34m(\u001b[0m\u001b[0malpha\u001b[0m\u001b[0;34m,\u001b[0m \u001b[0;34m*\u001b[0m\u001b[0margs\u001b[0m\u001b[0;34m)\u001b[0m\u001b[0;34m\u001b[0m\u001b[0;34m\u001b[0m\u001b[0m\n\u001b[0;32m----> 6\u001b[0;31m         \u001b[0mleft\u001b[0m \u001b[0;34m=\u001b[0m \u001b[0msvm_f\u001b[0m\u001b[0;34m(\u001b[0m\u001b[0malpha\u001b[0m \u001b[0;34m-\u001b[0m \u001b[0meta\u001b[0m \u001b[0;34m*\u001b[0m \u001b[0mgrad\u001b[0m\u001b[0;34m,\u001b[0m \u001b[0;34m*\u001b[0m\u001b[0margs\u001b[0m\u001b[0;34m)\u001b[0m \u001b[0;34m-\u001b[0m \u001b[0msvm_f\u001b[0m\u001b[0;34m(\u001b[0m\u001b[0malpha\u001b[0m\u001b[0;34m,\u001b[0m \u001b[0;34m*\u001b[0m\u001b[0margs\u001b[0m\u001b[0;34m)\u001b[0m\u001b[0;34m\u001b[0m\u001b[0;34m\u001b[0m\u001b[0m\n\u001b[0m\u001b[1;32m      7\u001b[0m         \u001b[0mright\u001b[0m \u001b[0;34m=\u001b[0m \u001b[0meta\u001b[0m \u001b[0;34m*\u001b[0m \u001b[0mprop_constant\u001b[0m \u001b[0;34m*\u001b[0m \u001b[0mnp\u001b[0m\u001b[0;34m.\u001b[0m\u001b[0mlinalg\u001b[0m\u001b[0;34m.\u001b[0m\u001b[0mnorm\u001b[0m\u001b[0;34m(\u001b[0m\u001b[0mgrad\u001b[0m\u001b[0;34m)\u001b[0m\u001b[0;34m**\u001b[0m\u001b[0;36m2\u001b[0m\u001b[0;34m\u001b[0m\u001b[0;34m\u001b[0m\u001b[0m\n\u001b[1;32m      8\u001b[0m         \u001b[0;32mreturn\u001b[0m \u001b[0mleft\u001b[0m \u001b[0;34m<=\u001b[0m \u001b[0mright\u001b[0m\u001b[0;34m\u001b[0m\u001b[0;34m\u001b[0m\u001b[0m\n",
      "\u001b[0;32m<ipython-input-5-2c9c7dd0d1bf>\u001b[0m in \u001b[0;36msvm_f\u001b[0;34m(alpha, X, y, lambda_, b, p)\u001b[0m\n\u001b[1;32m      1\u001b[0m \u001b[0;32mdef\u001b[0m \u001b[0msvm_f\u001b[0m\u001b[0;34m(\u001b[0m\u001b[0malpha\u001b[0m\u001b[0;34m,\u001b[0m \u001b[0mX\u001b[0m\u001b[0;34m,\u001b[0m \u001b[0my\u001b[0m\u001b[0;34m,\u001b[0m \u001b[0mlambda_\u001b[0m\u001b[0;34m,\u001b[0m \u001b[0mb\u001b[0m\u001b[0;34m,\u001b[0m \u001b[0mp\u001b[0m\u001b[0;34m)\u001b[0m\u001b[0;34m:\u001b[0m\u001b[0;34m\u001b[0m\u001b[0;34m\u001b[0m\u001b[0m\n\u001b[1;32m      2\u001b[0m     \u001b[0mn\u001b[0m \u001b[0;34m=\u001b[0m \u001b[0mX\u001b[0m\u001b[0;34m.\u001b[0m\u001b[0mshape\u001b[0m\u001b[0;34m[\u001b[0m\u001b[0;36m0\u001b[0m\u001b[0;34m]\u001b[0m\u001b[0;34m\u001b[0m\u001b[0;34m\u001b[0m\u001b[0m\n\u001b[0;32m----> 3\u001b[0;31m     \u001b[0mK\u001b[0m \u001b[0;34m=\u001b[0m \u001b[0mcomputegram\u001b[0m\u001b[0;34m(\u001b[0m\u001b[0mkernal\u001b[0m\u001b[0;34m,\u001b[0m \u001b[0mX\u001b[0m\u001b[0;34m,\u001b[0m \u001b[0mb\u001b[0m\u001b[0;34m,\u001b[0m \u001b[0mp\u001b[0m\u001b[0;34m)\u001b[0m \u001b[0;31m# nxn matrix\u001b[0m\u001b[0;34m\u001b[0m\u001b[0;34m\u001b[0m\u001b[0m\n\u001b[0m\u001b[1;32m      4\u001b[0m     \u001b[0mK_a\u001b[0m \u001b[0;34m=\u001b[0m \u001b[0mnp\u001b[0m\u001b[0;34m.\u001b[0m\u001b[0mdot\u001b[0m\u001b[0;34m(\u001b[0m\u001b[0mK\u001b[0m\u001b[0;34m,\u001b[0m \u001b[0malpha\u001b[0m\u001b[0;34m)\u001b[0m\u001b[0;34m\u001b[0m\u001b[0;34m\u001b[0m\u001b[0m\n\u001b[1;32m      5\u001b[0m     \u001b[0mloss\u001b[0m \u001b[0;34m=\u001b[0m \u001b[0;36m0\u001b[0m\u001b[0;34m\u001b[0m\u001b[0;34m\u001b[0m\u001b[0m\n",
      "\u001b[0;32m<ipython-input-3-185b497f497b>\u001b[0m in \u001b[0;36mcomputegram\u001b[0;34m(k, x, b, p)\u001b[0m\n\u001b[1;32m      5\u001b[0m     \u001b[0;32mfor\u001b[0m \u001b[0mi\u001b[0m\u001b[0;34m,\u001b[0m \u001b[0mv\u001b[0m \u001b[0;32min\u001b[0m \u001b[0menumerate\u001b[0m\u001b[0;34m(\u001b[0m\u001b[0mx\u001b[0m\u001b[0;34m)\u001b[0m\u001b[0;34m:\u001b[0m\u001b[0;34m\u001b[0m\u001b[0;34m\u001b[0m\u001b[0m\n\u001b[1;32m      6\u001b[0m         \u001b[0;32mfor\u001b[0m \u001b[0mj\u001b[0m\u001b[0;34m,\u001b[0m \u001b[0mw\u001b[0m \u001b[0;32min\u001b[0m \u001b[0menumerate\u001b[0m\u001b[0;34m(\u001b[0m\u001b[0mx\u001b[0m\u001b[0;34m)\u001b[0m\u001b[0;34m:\u001b[0m\u001b[0;34m\u001b[0m\u001b[0;34m\u001b[0m\u001b[0m\n\u001b[0;32m----> 7\u001b[0;31m             \u001b[0mK\u001b[0m\u001b[0;34m[\u001b[0m\u001b[0mi\u001b[0m\u001b[0;34m]\u001b[0m\u001b[0;34m[\u001b[0m\u001b[0mj\u001b[0m\u001b[0;34m]\u001b[0m \u001b[0;34m=\u001b[0m \u001b[0mk\u001b[0m\u001b[0;34m(\u001b[0m\u001b[0mv\u001b[0m\u001b[0;34m,\u001b[0m \u001b[0mw\u001b[0m\u001b[0;34m,\u001b[0m \u001b[0mb\u001b[0m\u001b[0;34m,\u001b[0m \u001b[0mp\u001b[0m\u001b[0;34m)\u001b[0m\u001b[0;34m\u001b[0m\u001b[0;34m\u001b[0m\u001b[0m\n\u001b[0m\u001b[1;32m      8\u001b[0m \u001b[0;34m\u001b[0m\u001b[0m\n\u001b[1;32m      9\u001b[0m     \u001b[0;32mreturn\u001b[0m \u001b[0mK\u001b[0m\u001b[0;34m\u001b[0m\u001b[0;34m\u001b[0m\u001b[0m\n",
      "\u001b[0;32m<ipython-input-2-f534886c1925>\u001b[0m in \u001b[0;36mkernal\u001b[0;34m(x, y, b, p)\u001b[0m\n\u001b[0;32m----> 1\u001b[0;31m \u001b[0;32mdef\u001b[0m \u001b[0mkernal\u001b[0m\u001b[0;34m(\u001b[0m\u001b[0mx\u001b[0m\u001b[0;34m,\u001b[0m \u001b[0my\u001b[0m\u001b[0;34m,\u001b[0m \u001b[0mb\u001b[0m\u001b[0;34m,\u001b[0m \u001b[0mp\u001b[0m\u001b[0;34m)\u001b[0m\u001b[0;34m:\u001b[0m\u001b[0;34m\u001b[0m\u001b[0;34m\u001b[0m\u001b[0m\n\u001b[0m\u001b[1;32m      2\u001b[0m     \u001b[0;32mreturn\u001b[0m \u001b[0;34m(\u001b[0m\u001b[0mnp\u001b[0m\u001b[0;34m.\u001b[0m\u001b[0mdot\u001b[0m\u001b[0;34m(\u001b[0m\u001b[0mx\u001b[0m\u001b[0;34m.\u001b[0m\u001b[0mT\u001b[0m\u001b[0;34m,\u001b[0m \u001b[0my\u001b[0m\u001b[0;34m)\u001b[0m \u001b[0;34m+\u001b[0m \u001b[0mb\u001b[0m\u001b[0;34m)\u001b[0m\u001b[0;34m**\u001b[0m\u001b[0mp\u001b[0m\u001b[0;34m\u001b[0m\u001b[0;34m\u001b[0m\u001b[0m\n",
      "\u001b[0;31mKeyboardInterrupt\u001b[0m: "
     ]
    }
   ],
   "source": [
    "y_train_0 = np.where(y_train == 0, 1, -1)\n",
    "eta_init = 0.000001\n",
    "tol = 1.0\n",
    "alpha_init = np.zeros(X_train.shape[0])\n",
    "lam = 10.0\n",
    "b = 1\n",
    "p = 7\n",
    "svm_d = mysvm(eta_init, tol, alpha_init, X_train, y_train_0, lam, b, p)"
   ]
  },
  {
   "cell_type": "code",
   "execution_count": null,
   "id": "suited-prison",
   "metadata": {},
   "outputs": [],
   "source": [
    "# for d in digits:\n",
    "#     # train a classifier on y_i^d = 1 if y_i = d, -1 else\n",
    "#     y_train_d = np.where(y_train == d, 1, -1)\n",
    "#     eta_init = 0.5\n",
    "#     tol = 1.0\n",
    "#     alpha_init = np.zeros(X_train.shape[0])\n",
    "#     lam = 10.0\n",
    "#     b = 1\n",
    "#     p = 7\n",
    "#     svm_d = mysvm(eta_init, tol, alpha_init, X_train, y_train_d, lam, b, p)\n",
    "#     classifiers[d] = svm_d"
   ]
  }
 ],
 "metadata": {
  "kernelspec": {
   "display_name": "Python [conda env:DATA558] *",
   "language": "python",
   "name": "conda-env-DATA558-py"
  },
  "language_info": {
   "codemirror_mode": {
    "name": "ipython",
    "version": 3
   },
   "file_extension": ".py",
   "mimetype": "text/x-python",
   "name": "python",
   "nbconvert_exporter": "python",
   "pygments_lexer": "ipython3",
   "version": "3.7.10"
  }
 },
 "nbformat": 4,
 "nbformat_minor": 5
}
